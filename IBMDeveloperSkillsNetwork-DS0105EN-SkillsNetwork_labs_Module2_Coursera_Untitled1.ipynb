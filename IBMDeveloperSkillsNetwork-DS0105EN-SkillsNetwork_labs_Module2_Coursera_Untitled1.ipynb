{
  "metadata": {
    "language_info": {
      "codemirror_mode": {
        "name": "python",
        "version": 3
      },
      "file_extension": ".py",
      "mimetype": "text/x-python",
      "name": "python",
      "nbconvert_exporter": "python",
      "pygments_lexer": "ipython3",
      "version": "3.8"
    },
    "kernelspec": {
      "name": "python",
      "display_name": "Pyolite",
      "language": "python"
    }
  },
  "nbformat_minor": 4,
  "nbformat": 4,
  "cells": [
    {
      "cell_type": "markdown",
      "source": "<h1>My Jupyter Notebook on IBM Watson Studio</h1>\n\n",
      "metadata": {}
    },
    {
      "cell_type": "markdown",
      "source": "<h3>Rana B Mahmooud</h3>\n\nMonitoring and Evaluation Officer\n\n",
      "metadata": {}
    },
    {
      "cell_type": "markdown",
      "source": "<i>I am intrested in this course because I want to be a data anayst and I am learning new things related to data science</i>",
      "metadata": {}
    },
    {
      "cell_type": "markdown",
      "source": "<h3> the following code is to add 2 numbers</h3>",
      "metadata": {}
    },
    {
      "cell_type": "code",
      "source": "x=1\ny=6\nprint(\"X+Y=\",y+x)",
      "metadata": {
        "trusted": true
      },
      "execution_count": 3,
      "outputs": [
        {
          "name": "stdout",
          "text": "X+Y= 7\n",
          "output_type": "stream"
        }
      ]
    },
    {
      "cell_type": "markdown",
      "source": "THIS IS A TABLE WITH BULLET POINTS AND HORIZANTAL RULE",
      "metadata": {}
    },
    {
      "cell_type": "markdown",
      "source": "|header|header|\n|----|----|\n|cell|cell|\n- Bullet\n- Bullet",
      "metadata": {}
    },
    {
      "cell_type": "code",
      "source": "",
      "metadata": {},
      "execution_count": null,
      "outputs": []
    }
  ]
}